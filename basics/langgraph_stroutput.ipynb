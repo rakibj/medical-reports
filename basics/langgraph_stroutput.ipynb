{
 "cells": [
  {
   "cell_type": "code",
   "execution_count": 1,
   "id": "e00923a1",
   "metadata": {},
   "outputs": [],
   "source": [
    "from typing import Annotated, TypedDict, List\n",
    "from langgraph.graph import StateGraph, START, END\n",
    "from langgraph.graph.message import add_messages\n",
    "from dotenv import load_dotenv\n",
    "from IPython.display import display, Markdown, Image\n",
    "from langchain_openai import ChatOpenAI\n",
    "from pydantic import BaseModel, Field\n",
    "from langgraph.prebuilt import ToolNode, tools_condition\n",
    "from langgraph.checkpoint.memory import MemorySaver\n",
    "from langchain_core.messages import BaseMessage, HumanMessage, AIMessage, SystemMessage\n",
    "from langchain.agents import Tool\n",
    "import json\n",
    "import uuid\n",
    "\n",
    "import gradio as gr"
   ]
  },
  {
   "cell_type": "code",
   "execution_count": 2,
   "id": "b07a402c",
   "metadata": {},
   "outputs": [
    {
     "data": {
      "text/plain": [
       "True"
      ]
     },
     "execution_count": 2,
     "metadata": {},
     "output_type": "execute_result"
    }
   ],
   "source": [
    "load_dotenv(override=True)"
   ]
  },
  {
   "cell_type": "code",
   "execution_count": 3,
   "id": "b0810cde",
   "metadata": {},
   "outputs": [],
   "source": [
    "class Decider(TypedDict):\n",
    "    requires_structure: bool = Field(description=\"if structued data is required\")\n",
    "    requires_tool: bool = Field(description=\"if tool llm is required\")\n",
    "    response: str = Field(description=\"your response\")"
   ]
  },
  {
   "cell_type": "code",
   "execution_count": 4,
   "id": "856e062f",
   "metadata": {},
   "outputs": [],
   "source": [
    "class MovieReview(TypedDict):\n",
    "    name : str = Field(description=\"The name of the movie\")\n",
    "    genre: str = Field(description=\"The genre of the movie, e.g., 'Action', 'Comedy', etc.\")\n",
    "    review: str = Field(description=\"The movie review text\")\n",
    "    sentiment: str = Field(description=\"The sentiment of the review, either 'positive' or 'negative'\")\n",
    "    imdb_rating: float = Field(description=\"The IMDb rating of the movie, a float between 0 and 10\")\n",
    "    parents_guide: str = Field(description=\"A brief parents guide for the movie\")\n",
    "    rated_for: str = Field(description=\"The age group the movie is rated for, e.g., 'PG-13', 'R', etc.\")"
   ]
  },
  {
   "cell_type": "code",
   "execution_count": 5,
   "id": "5ae0d98c",
   "metadata": {},
   "outputs": [],
   "source": [
    "class State(TypedDict):\n",
    "    messages: Annotated[list, add_messages]\n",
    "    requires_structure: Annotated[bool, \"if the response requires structured output\"]\n",
    "    requires_tool: Annotated[bool, \"if the response requires tool use\"]"
   ]
  },
  {
   "cell_type": "code",
   "execution_count": 6,
   "id": "b6471443",
   "metadata": {},
   "outputs": [],
   "source": [
    "# import nest_asyncio\n",
    "# from langchain_community.agent_toolkits import PlayWrightBrowserToolkit\n",
    "# from langchain_community.tools.playwright.utils import create_async_playwright_browser\n",
    "\n",
    "# nest_asyncio.apply()\n",
    "\n",
    "# async_browser = create_async_playwright_browser(headless=False)\n",
    "# toolkit = PlayWrightBrowserToolkit.from_browser(async_browser=async_browser)\n",
    "# tools = toolkit.get_tools()"
   ]
  },
  {
   "cell_type": "code",
   "execution_count": 7,
   "id": "ea3a2c49",
   "metadata": {},
   "outputs": [],
   "source": [
    "from langchain_community.utilities import GoogleSerperAPIWrapper\n",
    "\n",
    "serper = GoogleSerperAPIWrapper()\n",
    "\n",
    "tool_search = Tool(\n",
    "    name = \"web_search\",\n",
    "    func=serper.run,\n",
    "    description=\"Useful for when you need to do a web search\"\n",
    ")\n",
    "\n",
    "tools = [tool_search]"
   ]
  },
  {
   "cell_type": "code",
   "execution_count": 8,
   "id": "36ce057d",
   "metadata": {},
   "outputs": [],
   "source": [
    "worker_llm = ChatOpenAI(model=\"gpt-4o-mini\")\n",
    "worker_llm_with_tools = worker_llm.bind_tools(tools)\n",
    "wroker_llm_structured_output = worker_llm.with_structured_output(MovieReview)\n",
    "worker_llm_decider = worker_llm.with_structured_output(Decider)"
   ]
  },
  {
   "cell_type": "code",
   "execution_count": 9,
   "id": "c6abf89c",
   "metadata": {},
   "outputs": [],
   "source": [
    "def print_messages(state: State):\n",
    "    for msg in state[\"messages\"]:\n",
    "        if isinstance(msg, dict):  # your manual dict messages\n",
    "            role = msg.get(\"role\", \"unknown\")\n",
    "            content = msg.get(\"content\", \"\")\n",
    "        else:  # AIMessage / HumanMessage / SystemMessage\n",
    "            role = getattr(msg, \"type\", msg.__class__.__name__)\n",
    "            content = getattr(msg, \"content\", \"\")\n",
    "        print(f\"{role}: {content}\")"
   ]
  },
  {
   "cell_type": "code",
   "execution_count": 10,
   "id": "db1045b7",
   "metadata": {},
   "outputs": [],
   "source": [
    "def llm_decider(old_state: State) -> State:\n",
    "    system_message = \"You are a movie review assistant. \" \\\n",
    "    \"If someone asks for a movie review, you will use your tools to get the latest information and set the requires_structure to True \" \\\n",
    "    \"and finally provide a structured output\" \\\n",
    "    \"But if they continue a normal conversation, you will respond normally but keep movie directed. \" \\\n",
    "    \"If you need to look something up, use the tools provided.\"\n",
    "\n",
    "    found_system_message = False\n",
    "    messages = old_state[\"messages\"]\n",
    "    for message in messages:\n",
    "        if isinstance(message, SystemMessage):\n",
    "            print(\"found system message\")\n",
    "            message.content = system_message\n",
    "            found_system_message = True\n",
    "    \n",
    "    if not found_system_message:\n",
    "        print(\"not found system message, adding one\")\n",
    "        messages = [{'role': 'system', 'content': system_message}] + messages\n",
    "\n",
    "    print_messages(old_state)\n",
    "    print(f\"Invoking LLM decider...\")\n",
    "    response = worker_llm_decider.invoke(old_state['messages'])\n",
    "    print(response)\n",
    "    state = State(messages=[{'role': 'assistant', 'content': response['response']}], \n",
    "                  requires_structure=response.get('requires_structure', False),\n",
    "                  requires_tool=response.get('requires_tool', False))\n",
    "    return state"
   ]
  },
  {
   "cell_type": "code",
   "execution_count": 11,
   "id": "34243861",
   "metadata": {},
   "outputs": [],
   "source": [
    "def llm_worker_node(old_state: State) -> State:\n",
    "    print_messages(old_state)\n",
    "    print(f\"Invoking LLM worker with tools... requires_structure: {old_state.get('requires_structure')}\")\n",
    "    response = worker_llm_with_tools.invoke(old_state['messages'])\n",
    "    print(f\"LLM worker response: {response}\")\n",
    "    messages = [response]\n",
    "    state = State(messages = messages, requires_structure=old_state['requires_structure'], requires_tool=old_state['requires_tool'])\n",
    "    return state"
   ]
  },
  {
   "cell_type": "code",
   "execution_count": 12,
   "id": "a82529cd",
   "metadata": {},
   "outputs": [],
   "source": [
    "def llm_strcuture_node(old_state: State) -> State:\n",
    "    print_messages(old_state)\n",
    "    print(f\"Invoking LLM worker for structured output... requires_structure: {old_state.get('requires_structure')}\")\n",
    "    response = wroker_llm_structured_output.invoke(old_state[\"messages\"])\n",
    "    messages = [{'role': 'assistant', 'content': json.dumps(response)}]\n",
    "    state = State(messages = messages, requires_structure=old_state['requires_structure'], requires_tool=old_state['requires_tool'])\n",
    "    return state"
   ]
  },
  {
   "cell_type": "code",
   "execution_count": 13,
   "id": "f4287829",
   "metadata": {},
   "outputs": [],
   "source": [
    "def route_decider(state: State) -> str:\n",
    "    last = state[\"messages\"][-1]\n",
    "    if state.get(\"requires_tool\"):\n",
    "        return \"tools\"\n",
    "    if state.get(\"requires_structure\"):\n",
    "        return \"structured\"\n",
    "    return END"
   ]
  },
  {
   "cell_type": "code",
   "execution_count": 14,
   "id": "834921e7",
   "metadata": {},
   "outputs": [
    {
     "data": {
      "image/png": "[encoded data removed]",
      "text/plain": [
       "<IPython.core.display.Image object>"
      ]
     },
     "metadata": {},
     "output_type": "display_data"
    }
   ],
   "source": [
    "graph_builder = StateGraph(State)\n",
    "\n",
    "graph_builder.add_node(\"llm_decider\", llm_decider)\n",
    "graph_builder.add_node(\"llm_worker\", llm_worker_node)\n",
    "graph_builder.add_node(\"llm_structured\", llm_strcuture_node)\n",
    "graph_builder.add_node(\"tools\", ToolNode(tools=tools))\n",
    "\n",
    "graph_builder.add_edge(START, \"llm_decider\")\n",
    "# graph_builder.add_edge(START, \"llm_structured\")\n",
    "graph_builder.add_conditional_edges(\"llm_decider\", route_decider, {\"tools\": \"tools\", \"structured\": \"llm_structured\", END: END})\n",
    "graph_builder.add_edge(\"tools\", \"llm_decider\")\n",
    "# graph_builder.add_edge(\"llm_worker\", END)\n",
    "\n",
    "\n",
    "memory = MemorySaver()\n",
    "graph = graph_builder.compile(checkpointer=memory)\n",
    "display(Image(graph.get_graph().draw_mermaid_png()))"
   ]
  },
  {
   "cell_type": "code",
   "execution_count": 348,
   "id": "a23ac89c",
   "metadata": {},
   "outputs": [
    {
     "name": "stderr",
     "output_type": "stream",
     "text": [
      "/mnt/d/Work/Projects/Ubuntu_Home/projects/ownership-ai/.venv/lib/python3.12/site-packages/gradio/chat_interface.py:345: UserWarning: The 'tuples' format for chatbot messages is deprecated and will be removed in a future version of Gradio. Please set type='messages' instead, which uses openai-style 'role' and 'content' keys.\n",
      "  self.chatbot = Chatbot(\n"
     ]
    },
    {
     "name": "stdout",
     "output_type": "stream",
     "text": [
      "* Running on local URL:  http://127.0.0.1:7918\n",
      "* To create a public link, set `share=True` in `launch()`.\n"
     ]
    },
    {
     "data": {
      "text/html": [
       "<div><iframe src=\"http://127.0.0.1:7918/\" width=\"100%\" height=\"500\" allow=\"autoplay; camera; microphone; clipboard-read; clipboard-write;\" frameborder=\"0\" allowfullscreen></iframe></div>"
      ],
      "text/plain": [
       "<IPython.core.display.HTML object>"
      ]
     },
     "metadata": {},
     "output_type": "display_data"
    },
    {
     "data": {
      "text/plain": []
     },
     "execution_count": 348,
     "metadata": {},
     "output_type": "execute_result"
    },
    {
     "name": "stdout",
     "output_type": "stream",
     "text": [
      "found system message\n",
      "system: You are a movie review assistant. If someone asks for a movie review, you will use your tools to get the latest information and set the requires_structure to True and finally provide a structured outputBut if they continue a normal conversation, you will respond normally but keep movie directed. If you need to look something up, use the tools provided.\n",
      "human: Hey\n",
      "Invoking LLM decider...\n",
      "{'requires_structure': False, 'requires_tool': False, 'response': \"Hey! How's it going? Are you in the mood for a movie, or do you want to chat about something else?\"}\n",
      "found system message\n",
      "found system message\n",
      "system: You are a movie review assistant. If someone asks for a movie review, you will use your tools to get the latest information and set the requires_structure to True and finally provide a structured outputBut if they continue a normal conversation, you will respond normally but keep movie directed. If you need to look something up, use the tools provided.\n",
      "human: Hey\n",
      "ai: Hey! How's it going? Are you in the mood for a movie, or do you want to chat about something else?\n",
      "system: You are a movie review assistant. If someone asks for a movie review, you will use your tools to get the latest information and set the requires_structure to True and finally provide a structured outputBut if they continue a normal conversation, you will respond normally but keep movie directed. If you need to look something up, use the tools provided.\n",
      "human: I like movies\n",
      "Invoking LLM decider...\n",
      "{'requires_structure': False, 'requires_tool': False, 'response': \"That's great! Movies can be such a wonderful escape and source of enjoyment. Do you have any favorites, or are there any recent ones you've seen that you liked?\"}\n",
      "found system message\n",
      "found system message\n",
      "found system message\n",
      "system: You are a movie review assistant. If someone asks for a movie review, you will use your tools to get the latest information and set the requires_structure to True and finally provide a structured outputBut if they continue a normal conversation, you will respond normally but keep movie directed. If you need to look something up, use the tools provided.\n",
      "human: Hey\n",
      "ai: Hey! How's it going? Are you in the mood for a movie, or do you want to chat about something else?\n",
      "system: You are a movie review assistant. If someone asks for a movie review, you will use your tools to get the latest information and set the requires_structure to True and finally provide a structured outputBut if they continue a normal conversation, you will respond normally but keep movie directed. If you need to look something up, use the tools provided.\n",
      "human: I like movies\n",
      "ai: That's great! Movies can be such a wonderful escape and source of enjoyment. Do you have any favorites, or are there any recent ones you've seen that you liked?\n",
      "system: You are a movie review assistant. If someone asks for a movie review, you will use your tools to get the latest information and set the requires_structure to True and finally provide a structured outputBut if they continue a normal conversation, you will respond normally but keep movie directed. If you need to look something up, use the tools provided.\n",
      "human: review 'Nobody 2'\n",
      "Invoking LLM decider...\n",
      "{'requires_structure': True, 'requires_tool': True, 'response': \"Fetching the latest information about 'Nobody 2' for a structured review.\"}\n",
      "found system message\n",
      "found system message\n",
      "found system message\n",
      "system: You are a movie review assistant. If someone asks for a movie review, you will use your tools to get the latest information and set the requires_structure to True and finally provide a structured outputBut if they continue a normal conversation, you will respond normally but keep movie directed. If you need to look something up, use the tools provided.\n",
      "human: Hey\n",
      "ai: Hey! How's it going? Are you in the mood for a movie, or do you want to chat about something else?\n",
      "system: You are a movie review assistant. If someone asks for a movie review, you will use your tools to get the latest information and set the requires_structure to True and finally provide a structured outputBut if they continue a normal conversation, you will respond normally but keep movie directed. If you need to look something up, use the tools provided.\n",
      "human: I like movies\n",
      "ai: That's great! Movies can be such a wonderful escape and source of enjoyment. Do you have any favorites, or are there any recent ones you've seen that you liked?\n",
      "system: You are a movie review assistant. If someone asks for a movie review, you will use your tools to get the latest information and set the requires_structure to True and finally provide a structured outputBut if they continue a normal conversation, you will respond normally but keep movie directed. If you need to look something up, use the tools provided.\n",
      "human: review 'Nobody 2'\n",
      "ai: Fetching the latest information about 'Nobody 2' for a structured review.\n",
      "Invoking LLM decider...\n",
      "{'requires_structure': True, 'requires_tool': True, 'response': \"Fetching current details about 'Nobody 2'.\"}\n",
      "found system message\n",
      "found system message\n",
      "found system message\n",
      "system: You are a movie review assistant. If someone asks for a movie review, you will use your tools to get the latest information and set the requires_structure to True and finally provide a structured outputBut if they continue a normal conversation, you will respond normally but keep movie directed. If you need to look something up, use the tools provided.\n",
      "human: Hey\n",
      "ai: Hey! How's it going? Are you in the mood for a movie, or do you want to chat about something else?\n",
      "system: You are a movie review assistant. If someone asks for a movie review, you will use your tools to get the latest information and set the requires_structure to True and finally provide a structured outputBut if they continue a normal conversation, you will respond normally but keep movie directed. If you need to look something up, use the tools provided.\n",
      "human: I like movies\n",
      "ai: That's great! Movies can be such a wonderful escape and source of enjoyment. Do you have any favorites, or are there any recent ones you've seen that you liked?\n",
      "system: You are a movie review assistant. If someone asks for a movie review, you will use your tools to get the latest information and set the requires_structure to True and finally provide a structured outputBut if they continue a normal conversation, you will respond normally but keep movie directed. If you need to look something up, use the tools provided.\n",
      "human: review 'Nobody 2'\n",
      "ai: Fetching the latest information about 'Nobody 2' for a structured review.\n",
      "ai: Fetching current details about 'Nobody 2'.\n",
      "Invoking LLM decider...\n",
      "{'requires_structure': True, 'requires_tool': False, 'response': \"Fetching the latest information about 'Nobody 2' for a structured review.\"}\n",
      "system: You are a movie review assistant. If someone asks for a movie review, you will use your tools to get the latest information and set the requires_structure to True and finally provide a structured outputBut if they continue a normal conversation, you will respond normally but keep movie directed. If you need to look something up, use the tools provided.\n",
      "human: Hey\n",
      "ai: Hey! How's it going? Are you in the mood for a movie, or do you want to chat about something else?\n",
      "system: You are a movie review assistant. If someone asks for a movie review, you will use your tools to get the latest information and set the requires_structure to True and finally provide a structured outputBut if they continue a normal conversation, you will respond normally but keep movie directed. If you need to look something up, use the tools provided.\n",
      "human: I like movies\n",
      "ai: That's great! Movies can be such a wonderful escape and source of enjoyment. Do you have any favorites, or are there any recent ones you've seen that you liked?\n",
      "system: You are a movie review assistant. If someone asks for a movie review, you will use your tools to get the latest information and set the requires_structure to True and finally provide a structured outputBut if they continue a normal conversation, you will respond normally but keep movie directed. If you need to look something up, use the tools provided.\n",
      "human: review 'Nobody 2'\n",
      "ai: Fetching the latest information about 'Nobody 2' for a structured review.\n",
      "ai: Fetching current details about 'Nobody 2'.\n",
      "ai: Fetching the latest information about 'Nobody 2' for a structured review.\n",
      "Invoking LLM worker for structured output... requires_structure: True\n",
      "found system message\n",
      "found system message\n",
      "found system message\n",
      "found system message\n",
      "system: You are a movie review assistant. If someone asks for a movie review, you will use your tools to get the latest information and set the requires_structure to True and finally provide a structured outputBut if they continue a normal conversation, you will respond normally but keep movie directed. If you need to look something up, use the tools provided.\n",
      "human: Hey\n",
      "ai: Hey! How's it going? Are you in the mood for a movie, or do you want to chat about something else?\n",
      "system: You are a movie review assistant. If someone asks for a movie review, you will use your tools to get the latest information and set the requires_structure to True and finally provide a structured outputBut if they continue a normal conversation, you will respond normally but keep movie directed. If you need to look something up, use the tools provided.\n",
      "human: I like movies\n",
      "ai: That's great! Movies can be such a wonderful escape and source of enjoyment. Do you have any favorites, or are there any recent ones you've seen that you liked?\n",
      "system: You are a movie review assistant. If someone asks for a movie review, you will use your tools to get the latest information and set the requires_structure to True and finally provide a structured outputBut if they continue a normal conversation, you will respond normally but keep movie directed. If you need to look something up, use the tools provided.\n",
      "human: review 'Nobody 2'\n",
      "ai: Fetching the latest information about 'Nobody 2' for a structured review.\n",
      "ai: Fetching current details about 'Nobody 2'.\n",
      "ai: Fetching the latest information about 'Nobody 2' for a structured review.\n",
      "ai: {\"name\": \"Nobody 2\", \"genre\": \"Action, Thriller\", \"review\": \"'Nobody 2' follows the story of Hutch Mansell as he navigates a deeper world of criminality and chaos after the events of the first film. This sequel ramps up the action and stakes, showcasing incredible choreography and engaging storytelling. The character development is strong, with Hutch evolving and confronting new challenges that test his limits. The film balances dark humor with intense action sequences, making it an exhilarating ride for fans of the genre.\", \"sentiment\": \"positive\", \"imdb_rating\": null, \"parents_guide\": \"This film contains violence, strong language, and some mature themes.\", \"rated_for\": \"Violence, Language\"}\n",
      "system: You are a movie review assistant. If someone asks for a movie review, you will use your tools to get the latest information and set the requires_structure to True and finally provide a structured outputBut if they continue a normal conversation, you will respond normally but keep movie directed. If you need to look something up, use the tools provided.\n",
      "human: do you have any suggestions for other similar movies\n",
      "Invoking LLM decider...\n",
      "{'type': 'object', 'properties': {'requires_structure': False, 'requires_tool': False, 'response': \"If you enjoyed 'Nobody' and are looking for similar action-packed films, here are some great suggestions:\\n\\n1. **John Wick (2014)** - This film is a must-see for fans of intense action and a compelling lead character seeking revenge.\\n2. **Atomic Blonde (2017)** - Featuring Charlize Theron as a spy in Cold War Berlin, it's full of stylish action and intriguing plot twists.\\n3. **The Equalizer (2014)** - Denzel Washington plays a retired black-ops agent who helps those in need, blending action with a strong moral compass.\\n4. **Taken (2008)** - A gripping story of a father on a mission to rescue his daughter from kidnappers, known for its relentless pace.\\n5. **Upgrade (2018)** - A unique take on the action genre with sci-fi elements, involving themes of revenge and technology.\\n\\nThese films should keep you entertained with their high-energy action and engaging stories!\"}}\n"
     ]
    },
    {
     "name": "stderr",
     "output_type": "stream",
     "text": [
      "Traceback (most recent call last):\n",
      "  File \"/mnt/d/Work/Projects/Ubuntu_Home/projects/ownership-ai/.venv/lib/python3.12/site-packages/gradio/queueing.py\", line 667, in process_events\n",
      "    response = await route_utils.call_process_api(\n",
      "               ^^^^^^^^^^^^^^^^^^^^^^^^^^^^^^^^^^^\n",
      "  File \"/mnt/d/Work/Projects/Ubuntu_Home/projects/ownership-ai/.venv/lib/python3.12/site-packages/gradio/route_utils.py\", line 349, in call_process_api\n",
      "    output = await app.get_blocks().process_api(\n",
      "             ^^^^^^^^^^^^^^^^^^^^^^^^^^^^^^^^^^^\n",
      "  File \"/mnt/d/Work/Projects/Ubuntu_Home/projects/ownership-ai/.venv/lib/python3.12/site-packages/gradio/blocks.py\", line 2274, in process_api\n",
      "    result = await self.call_function(\n",
      "             ^^^^^^^^^^^^^^^^^^^^^^^^^\n",
      "  File \"/mnt/d/Work/Projects/Ubuntu_Home/projects/ownership-ai/.venv/lib/python3.12/site-packages/gradio/blocks.py\", line 1779, in call_function\n",
      "    prediction = await fn(*processed_input)\n",
      "                 ^^^^^^^^^^^^^^^^^^^^^^^^^^\n",
      "  File \"/mnt/d/Work/Projects/Ubuntu_Home/projects/ownership-ai/.venv/lib/python3.12/site-packages/gradio/utils.py\", line 882, in async_wrapper\n",
      "    response = await f(*args, **kwargs)\n",
      "               ^^^^^^^^^^^^^^^^^^^^^^^^\n",
      "  File \"/mnt/d/Work/Projects/Ubuntu_Home/projects/ownership-ai/.venv/lib/python3.12/site-packages/gradio/chat_interface.py\", line 551, in __wrapper\n",
      "    return await submit_fn(*args, **kwargs)\n",
      "           ^^^^^^^^^^^^^^^^^^^^^^^^^^^^^^^^\n",
      "  File \"/mnt/d/Work/Projects/Ubuntu_Home/projects/ownership-ai/.venv/lib/python3.12/site-packages/gradio/chat_interface.py\", line 925, in _submit_fn\n",
      "    response = await anyio.to_thread.run_sync(\n",
      "               ^^^^^^^^^^^^^^^^^^^^^^^^^^^^^^^\n",
      "  File \"/mnt/d/Work/Projects/Ubuntu_Home/projects/ownership-ai/.venv/lib/python3.12/site-packages/anyio/to_thread.py\", line 56, in run_sync\n",
      "    return await get_async_backend().run_sync_in_worker_thread(\n",
      "           ^^^^^^^^^^^^^^^^^^^^^^^^^^^^^^^^^^^^^^^^^^^^^^^^^^^^\n",
      "  File \"/mnt/d/Work/Projects/Ubuntu_Home/projects/ownership-ai/.venv/lib/python3.12/site-packages/anyio/_backends/_asyncio.py\", line 2476, in run_sync_in_worker_thread\n",
      "    return await future\n",
      "           ^^^^^^^^^^^^\n",
      "  File \"/usr/lib/python3.12/asyncio/futures.py\", line 287, in __await__\n",
      "    yield self  # This tells Task to wait for completion.\n",
      "    ^^^^^^^^^^\n",
      "  File \"/usr/lib/python3.12/asyncio/tasks.py\", line 385, in __wakeup\n",
      "    future.result()\n",
      "  File \"/usr/lib/python3.12/asyncio/futures.py\", line 203, in result\n",
      "    raise self._exception.with_traceback(self._exception_tb)\n",
      "  File \"/mnt/d/Work/Projects/Ubuntu_Home/projects/ownership-ai/.venv/lib/python3.12/site-packages/anyio/_backends/_asyncio.py\", line 967, in run\n",
      "    result = context.run(func, *args)\n",
      "             ^^^^^^^^^^^^^^^^^^^^^^^^\n",
      "  File \"/tmp/ipykernel_53081/3608546299.py\", line 15, in chat\n",
      "    new_state = graph.invoke(state, config=config)\n",
      "                ^^^^^^^^^^^^^^^^^^^^^^^^^^^^^^^^^^\n",
      "  File \"/mnt/d/Work/Projects/Ubuntu_Home/projects/ownership-ai/.venv/lib/python3.12/site-packages/langgraph/pregel/main.py\", line 3026, in invoke\n",
      "    for chunk in self.stream(\n",
      "  File \"/mnt/d/Work/Projects/Ubuntu_Home/projects/ownership-ai/.venv/lib/python3.12/site-packages/langgraph/pregel/main.py\", line 2647, in stream\n",
      "    for _ in runner.tick(\n",
      "  File \"/mnt/d/Work/Projects/Ubuntu_Home/projects/ownership-ai/.venv/lib/python3.12/site-packages/langgraph/pregel/_runner.py\", line 162, in tick\n",
      "    run_with_retry(\n",
      "  File \"/mnt/d/Work/Projects/Ubuntu_Home/projects/ownership-ai/.venv/lib/python3.12/site-packages/langgraph/pregel/_retry.py\", line 42, in run_with_retry\n",
      "    return task.proc.invoke(task.input, config)\n",
      "           ^^^^^^^^^^^^^^^^^^^^^^^^^^^^^^^^^^^^\n",
      "  File \"/mnt/d/Work/Projects/Ubuntu_Home/projects/ownership-ai/.venv/lib/python3.12/site-packages/langgraph/_internal/_runnable.py\", line 657, in invoke\n",
      "    input = context.run(step.invoke, input, config, **kwargs)\n",
      "            ^^^^^^^^^^^^^^^^^^^^^^^^^^^^^^^^^^^^^^^^^^^^^^^^^\n",
      "  File \"/mnt/d/Work/Projects/Ubuntu_Home/projects/ownership-ai/.venv/lib/python3.12/site-packages/langgraph/_internal/_runnable.py\", line 401, in invoke\n",
      "    ret = self.func(*args, **kwargs)\n",
      "          ^^^^^^^^^^^^^^^^^^^^^^^^^^\n",
      "  File \"/tmp/ipykernel_53081/1975896174.py\", line 24, in llm_decider\n",
      "    state = State(messages=[{'role': 'assistant', 'content': response['response']}],\n",
      "                                                            ~~~~~~~~^^^^^^^^^^^^\n",
      "KeyError: 'response'\n",
      "During task with name 'llm_decider' and id '76353157-7c57-69f4-4a20-c1164ee192da'\n"
     ]
    }
   ],
   "source": [
    "def make_thread_id() -> str:\n",
    "    return str(uuid.uuid4())\n",
    "\n",
    "config = {\"configurable\": {\"thread_id\": make_thread_id()}}\n",
    "\n",
    "def chat(user_message, history):\n",
    "    system_message = \"You are a movie review assistant. If someone asks for a movie review, you will set the requires_structure to True \" \\\n",
    "    \"and provide a structured output\" \\\n",
    "    \"But if they continue a normal conversation, you will respond normally. If you need to look something up, use the tools provided.\"\n",
    "    messages = [\n",
    "        {\"role\": \"system\", \"content\": system_message},\n",
    "        {\"role\": \"user\", \"content\": user_message}\n",
    "        ]\n",
    "    state = State(messages=messages, requires_structure=False, requires_tool=False)\n",
    "    new_state = graph.invoke(state, config=config)\n",
    "    return new_state[\"messages\"][-1].content\n",
    "\n",
    "gr.ChatInterface(fn=chat, title=\"LangGraph LLM Test\").launch()"
   ]
  },
  {
   "cell_type": "code",
   "execution_count": null,
   "id": "ea1b5721",
   "metadata": {},
   "outputs": [],
   "source": []
  },
  {
   "cell_type": "code",
   "execution_count": null,
   "id": "6d206127",
   "metadata": {},
   "outputs": [],
   "source": []
  }
 ],
 "metadata": {
  "kernelspec": {
   "display_name": "ownership-ai",
   "language": "python",
   "name": "python3"
  },
  "language_info": {
   "codemirror_mode": {
    "name": "ipython",
    "version": 3
   },
   "file_extension": ".py",
   "mimetype": "text/x-python",
   "name": "python",
   "nbconvert_exporter": "python",
   "pygments_lexer": "ipython3",
   "version": "3.12.3"
  }
 },
 "nbformat": 4,
 "nbformat_minor": 5
}
