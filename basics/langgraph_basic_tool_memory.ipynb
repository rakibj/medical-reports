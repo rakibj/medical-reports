{
 "cells": [
  {
   "cell_type": "code",
   "execution_count": 1,
   "id": "d353374c",
   "metadata": {},
   "outputs": [],
   "source": [
    "from typing import Annotated\n",
    "from langgraph.graph import StateGraph, START, END\n",
    "from langgraph.graph.message import add_messages\n",
    "from dotenv import load_dotenv\n",
    "from IPython.display import display, Markdown, Image\n",
    "from langchain_openai import ChatOpenAI\n",
    "from pydantic import BaseModel\n",
    "\n",
    "import random\n",
    "import gradio as gr"
   ]
  },
  {
   "cell_type": "code",
   "execution_count": 2,
   "id": "af4a346e",
   "metadata": {},
   "outputs": [
    {
     "data": {
      "text/plain": [
       "True"
      ]
     },
     "execution_count": 2,
     "metadata": {},
     "output_type": "execute_result"
    }
   ],
   "source": [
    "load_dotenv()"
   ]
  },
  {
   "cell_type": "code",
   "execution_count": 3,
   "id": "edb54f18",
   "metadata": {},
   "outputs": [],
   "source": [
    "nouns = [\"Cabbages\", \"Unicorns\", \"Toasters\", \"Penguins\", \"Bananas\", \"Zombies\", \"Rainbows\", \"Eels\", \"Pickles\", \"Muffins\"]\n",
    "adjectives = [\"outrageous\", \"smelly\", \"pedantic\", \"existential\", \"moody\", \"sparkly\", \"untrustworthy\", \"sarcastic\", \"squishy\", \"haunted\"]"
   ]
  },
  {
   "cell_type": "code",
   "execution_count": 4,
   "id": "af9141b4",
   "metadata": {},
   "outputs": [
    {
     "data": {
      "text/plain": [
       "'HELLO!!!'"
      ]
     },
     "execution_count": 4,
     "metadata": {},
     "output_type": "execute_result"
    }
   ],
   "source": [
    "def shout(text: Annotated[str, \"A string to shout out loud\"]) -> str:\n",
    "    \"\"\"Shout out loud\"\"\"\n",
    "    return text.upper() + \"!!!\"\n",
    "\n",
    "shout(\"hello\")"
   ]
  },
  {
   "cell_type": "code",
   "execution_count": 5,
   "id": "fd7d4788",
   "metadata": {},
   "outputs": [],
   "source": [
    "# 1.Define State object\n",
    "class State(BaseModel):\n",
    "\n",
    "    messages: Annotated[list, add_messages]"
   ]
  },
  {
   "cell_type": "code",
   "execution_count": 6,
   "id": "17bcbfa9",
   "metadata": {},
   "outputs": [],
   "source": [
    "# 2.Build the graph\n",
    "graph_builder = StateGraph(State) # Graph builder notes down the Annotations to understand where to merge"
   ]
  },
  {
   "cell_type": "code",
   "execution_count": 7,
   "id": "ce49e5b6",
   "metadata": {},
   "outputs": [
    {
     "data": {
      "text/plain": [
       "<langgraph.graph.state.StateGraph at 0x75d545c801d0>"
      ]
     },
     "execution_count": 7,
     "metadata": {},
     "output_type": "execute_result"
    }
   ],
   "source": [
    "# 3. Define the nodes\n",
    "def our_first_node(old_state: State) -> State:\n",
    "\n",
    "    reply = f\"Hello! I am a {random.choice(adjectives)} {random.choice(nouns)}. What's your name?\"\n",
    "    messages = [{'role': 'assistant', 'content': reply}]\n",
    "\n",
    "    new_state = State(messages=messages) # Graph build will merge the old_state and new_state\n",
    "    return new_state\n",
    "\n",
    "graph_builder.add_node(\"first_node\", our_first_node)"
   ]
  },
  {
   "cell_type": "code",
   "execution_count": 8,
   "id": "be96d4d0",
   "metadata": {},
   "outputs": [
    {
     "data": {
      "text/plain": [
       "<langgraph.graph.state.StateGraph at 0x75d545c801d0>"
      ]
     },
     "execution_count": 8,
     "metadata": {},
     "output_type": "execute_result"
    }
   ],
   "source": [
    "# 4. Define the edges\n",
    "graph_builder.add_edge(START, \"first_node\")\n",
    "graph_builder.add_edge(\"first_node\", END)"
   ]
  },
  {
   "cell_type": "code",
   "execution_count": 9,
   "id": "545b980e",
   "metadata": {},
   "outputs": [
    {
     "data": {
      "image/png": "[encoded data removed]",
      "text/plain": [
       "<IPython.core.display.Image object>"
      ]
     },
     "metadata": {},
     "output_type": "display_data"
    }
   ],
   "source": [
    "# 5. Compile the graph\n",
    "graph = graph_builder.compile()\n",
    "display(Image(graph.get_graph().draw_mermaid_png()))"
   ]
  },
  {
   "cell_type": "code",
   "execution_count": null,
   "id": "91b696af",
   "metadata": {},
   "outputs": [
    {
     "name": "stderr",
     "output_type": "stream",
     "text": [
      "/mnt/d/Work/Projects/AI-Engineer/medical-reports/.venv/lib/python3.12/site-packages/gradio/chat_interface.py:348: UserWarning: The 'tuples' format for chatbot messages is deprecated and will be removed in a future version of Gradio. Please set type='messages' instead, which uses openai-style 'role' and 'content' keys.\n",
      "  self.chatbot = Chatbot(\n"
     ]
    },
    {
     "name": "stdout",
     "output_type": "stream",
     "text": [
      "* Running on local URL:  http://127.0.0.1:7860\n",
      "* To create a public link, set `share=True` in `launch()`.\n"
     ]
    },
    {
     "data": {
      "text/html": [
       "<div><iframe src=\"http://127.0.0.1:7860/\" width=\"100%\" height=\"500\" allow=\"autoplay; camera; microphone; clipboard-read; clipboard-write;\" frameborder=\"0\" allowfullscreen></iframe></div>"
      ],
      "text/plain": [
       "<IPython.core.display.HTML object>"
      ]
     },
     "metadata": {},
     "output_type": "display_data"
    },
    {
     "data": {
      "text/plain": []
     },
     "execution_count": 10,
     "metadata": {},
     "output_type": "execute_result"
    },
    {
     "name": "stdout",
     "output_type": "stream",
     "text": [
      "{'messages': [HumanMessage(content='s', additional_kwargs={}, response_metadata={}, id='ac08074b-62e3-4e2c-b8d8-83599ab8a07c'), AIMessage(content=\"Hello! I am a untrustworthy Unicorns. What's your name?\", additional_kwargs={}, response_metadata={}, id='aebf2d17-9782-4e21-a0c9-f4cf82d2909a')]}\n"
     ]
    }
   ],
   "source": [
    "def chat(user_input: str, history):\n",
    "    message = {\"role\": \"user\", \"content\": user_input}\n",
    "    messages = [message]\n",
    "    state = State(messages=messages)\n",
    "\n",
    "    # 6. Turn the wheel\n",
    "    result = graph.invoke(state)\n",
    "    print(result)\n",
    "    return result[\"messages\"][-1].content #each message is an object NOT dict, so access with dot notation\n",
    "\n",
    "gr.ChatInterface(fn=chat, title=\"LangGraph Test\").launch()"
   ]
  },
  {
   "cell_type": "code",
   "execution_count": 18,
   "id": "cc36ab3a",
   "metadata": {},
   "outputs": [],
   "source": [
    "class State(BaseModel):\n",
    "    messages: Annotated[list, add_messages]\n",
    "\n",
    "graph_builder = StateGraph(State)"
   ]
  },
  {
   "cell_type": "code",
   "execution_count": 21,
   "id": "f4b06cd3",
   "metadata": {},
   "outputs": [],
   "source": [
    "llm = ChatOpenAI(model=\"gpt-4o-mini\")\n",
    "\n",
    "def llm_node(old_state: State) -> State:\n",
    "    response = llm.invoke(old_state.messages)\n",
    "    messages = [response]\n",
    "    new_state = State(messages=messages)\n",
    "    return new_state"
   ]
  },
  {
   "cell_type": "code",
   "execution_count": 22,
   "id": "12b157c4",
   "metadata": {},
   "outputs": [
    {
     "data": {
      "image/png": "[encoded data removed]",
      "text/plain": [
       "<IPython.core.display.Image object>"
      ]
     },
     "metadata": {},
     "output_type": "display_data"
    }
   ],
   "source": [
    "graph_builder.add_node(\"llm node\", llm_node)\n",
    "graph_builder.add_edge(START, \"llm node\")\n",
    "graph_builder.add_edge(\"llm node\", END)\n",
    "graph = graph_builder.compile()\n",
    "display(Image(graph.get_graph().draw_mermaid_png()))"
   ]
  },
  {
   "cell_type": "code",
   "execution_count": 23,
   "id": "9395052d",
   "metadata": {},
   "outputs": [],
   "source": [
    "def chat(user_message, history):\n",
    "    messages = [{\"role\": \"user\", \"content\": user_message}]\n",
    "    state = State(messages=messages)\n",
    "    new_state = graph.invoke(state)\n",
    "    return new_state[\"messages\"][-1].content"
   ]
  },
  {
   "cell_type": "code",
   "execution_count": null,
   "id": "2288f1c3",
   "metadata": {},
   "outputs": [
    {
     "name": "stderr",
     "output_type": "stream",
     "text": [
      "/mnt/d/Work/Projects/Ubuntu_Home/projects/ownership-ai/.venv/lib/python3.12/site-packages/gradio/chat_interface.py:345: UserWarning: The 'tuples' format for chatbot messages is deprecated and will be removed in a future version of Gradio. Please set type='messages' instead, which uses openai-style 'role' and 'content' keys.\n",
      "  self.chatbot = Chatbot(\n"
     ]
    },
    {
     "name": "stdout",
     "output_type": "stream",
     "text": [
      "* Running on local URL:  http://127.0.0.1:7864\n",
      "* To create a public link, set `share=True` in `launch()`.\n"
     ]
    },
    {
     "data": {
      "text/html": [
       "<div><iframe src=\"http://127.0.0.1:7864/\" width=\"100%\" height=\"500\" allow=\"autoplay; camera; microphone; clipboard-read; clipboard-write;\" frameborder=\"0\" allowfullscreen></iframe></div>"
      ],
      "text/plain": [
       "<IPython.core.display.HTML object>"
      ]
     },
     "metadata": {},
     "output_type": "display_data"
    },
    {
     "data": {
      "text/plain": []
     },
     "execution_count": 24,
     "metadata": {},
     "output_type": "execute_result"
    }
   ],
   "source": [
    "gr.ChatInterface(fn=chat, title=\"LangGraph LLM Test\").launch()\n",
    "# messages list is reset with every new state\n",
    "# the point of add_messages is to keep the messages list growing with each node"
   ]
  },
  {
   "cell_type": "code",
   "execution_count": null,
   "id": "0aef05b1",
   "metadata": {},
   "outputs": [
    {
     "data": {
      "text/plain": [
       "'Convert Bangladeshi Taka to Euro ; 1 BDT, 0.00703383 EUR ; 5 BDT, 0.0351691 EUR ; 10 BDT, 0.0703383 EUR ; 25 BDT, 0.175846 EUR. EUR to BDT exchange rates today ; 1 EUR, 142.94 BDT ; 5 EUR, 714.69 BDT ; 10 EUR, 1,429.37 BDT ; 20 EUR, 2,858.74 BDT. FX: 1.00 EUR – 143.5339 BDT Exchange Rates and Fees shown are estimates, vary by a number of factors including payment and payout methods, and are subject ... Euros to Bangladeshi Takas today · 1.0000 EUR = 141.9833 BDT · 1 Euro to Bangladeshi Taka historical data. FX: 1.00 EUR – 142.6880 BDT Exchange Rates and Fees shown are estimates, vary by a number of factors including payment and payout methods, and are subject ... Conversion rate table for different amounts ; 1 EUR. 137.47 BDT ; 10 EUR. 1374.72 BDT ; 20 EUR. 2749.45 BDT ; 100 EUR. 13747.24 BDT. Euros to Bangladeshi Takas: exchange rates today ; 20 BDT, 0.13 EUR ; 50 BDT, 0.34 EUR ; 100 BDT, 0.69 EUR ; 250 BDT, 1.74 EUR. Learn the current Euro to Bangladeshi Taka exchange rate and the cost when you send money to Bangladesh with Remitly. Conversion rate table for different amounts ; 1 EUR. 138.37 BDT ; 10 EUR. 1383.69 BDT ; 20 EUR. 2767.37 BDT ; 100 EUR. 13836.87 BDT. Euros to Bangladeshi Takas: exchange rates today ; 100 BDT, 0.70 EUR ; 250 BDT, 1.75 EUR ; 300 BDT, 2.10 EUR ; 500 BDT, 3.50 EUR.'"
      ]
     },
     "execution_count": 26,
     "metadata": {},
     "output_type": "execute_result"
    }
   ],
   "source": [
    "from langchain_community.utilities import GoogleSerperAPIWrapper\n",
    "\n",
    "serper = GoogleSerperAPIWrapper()\n",
    "serper.run(\"What is the exchange rate of EUR to BDT now?\")"
   ]
  },
  {
   "cell_type": "code",
   "execution_count": 40,
   "id": "4fa2b848",
   "metadata": {},
   "outputs": [],
   "source": [
    "from langchain.agents import Tool\n",
    "\n",
    "tool_search = Tool(\n",
    "    name = \"web_search\",\n",
    "    func=serper.run,\n",
    "    description=\"Useful for when you need to do a web search\"\n",
    ")"
   ]
  },
  {
   "cell_type": "code",
   "execution_count": 41,
   "id": "3c182a37",
   "metadata": {},
   "outputs": [
    {
     "data": {
      "text/plain": [
       "\"Convert Euro to Bangladeshi Taka ; 1 EUR, 141.788 BDT ; 5 EUR, 708.942 BDT ; 10 EUR, 1,417.88 BDT ; 25 EUR, 3,544.71 BDT. EUR to BDT exchange rates today ; 1 EUR, 143.03 BDT ; 5 EUR, 715.14 BDT ; 10 EUR, 1,430.28 BDT ; 20 EUR, 2,860.56 BDT. 1 EUR = 142.1208 BDT · 1. Check out our exchange rates · 2. Add money to your account · 3. Pay with your card in Europe. Conversion rate table for different amounts ; 1 EUR. 137.47 BDT ; 10 EUR. 1374.72 BDT ; 20 EUR. 2749.45 BDT ; 100 EUR. 13747.24 BDT. FX: 1.00 EUR – 143.5339 BDT Exchange Rates and Fees shown are estimates, vary by a number of factors including payment and payout methods, and are subject ... The exchange rate for Euro to Bangladeshi takas is currently 142.191 today, reflecting a 0.223% change since yesterday. Over the past week, the value of Euro ... Conversion rates. Euro / Bangladeshi Taka ; 1 EUR142.36054 BDT ; 2 EUR284.72108 BDT ; 5 EUR711.80270 BDT ; 10 EUR1,423.60539 BDT ; 100 EUR14,236.05393 BDT. Conversion rate table for different amounts ; 1 EUR. 138.59 BDT ; 10 EUR. 1385.89 BDT ; 20 EUR. 2771.78 BDT ; 100 EUR. 13858.92 BDT. Euro TO Bangladesh Taka Exchange rate. 1 EUR = 138.05335 BDT - today's best rate. Rate checker. Currency I have: AUD, CAD, EUR, GBP, NZD, USD, ----, AED, AFN ... As of 08:00AM UTC today, one euro equals ৳142.15 (one hundred forty-two taka 15 poishas). We use the mid-market rate for EUR to BDT conversion. The current ...\""
      ]
     },
     "execution_count": 41,
     "metadata": {},
     "output_type": "execute_result"
    }
   ],
   "source": [
    "tool_search.invoke(\"What is the exchange rate of 1 EUR to BDT now?\")"
   ]
  },
  {
   "cell_type": "code",
   "execution_count": 42,
   "id": "7a46e629",
   "metadata": {},
   "outputs": [
    {
     "data": {
      "text/html": [
       "<pre style=\"white-space:pre;overflow-x:auto;line-height:normal;font-family:Menlo,'DejaVu Sans Mono',consolas,'Courier New',monospace\"><span style=\"color: #7fbfbf; text-decoration-color: #7fbfbf\">[22:53:35] </span><span style=\"color: #008000; text-decoration-color: #008000; font-weight: bold\">Hello! This is a test notification from LangGraph.</span>                                       <a href=\"file:///tmp/ipykernel_43240/2656331194.py\" target=\"_blank\"><span style=\"color: #7f7f7f; text-decoration-color: #7f7f7f\">2656331194.py</span></a><span style=\"color: #7f7f7f; text-decoration-color: #7f7f7f\">:</span><a href=\"file:///tmp/ipykernel_43240/2656331194.py#5\" target=\"_blank\"><span style=\"color: #7f7f7f; text-decoration-color: #7f7f7f\">5</span></a>\n",
       "</pre>\n"
      ],
      "text/plain": [
       "\u001b[2;36m[22:53:35]\u001b[0m\u001b[2;36m \u001b[0m\u001b[1;32mHello! This is a test notification from LangGraph.\u001b[0m                                       \u001b]8;id=881068;file:///tmp/ipykernel_43240/2656331194.py\u001b\\\u001b[2m2656331194.py\u001b[0m\u001b]8;;\u001b\\\u001b[2m:\u001b[0m\u001b]8;id=481226;file:///tmp/ipykernel_43240/2656331194.py#5\u001b\\\u001b[2m5\u001b[0m\u001b]8;;\u001b\\\n"
      ]
     },
     "metadata": {},
     "output_type": "display_data"
    }
   ],
   "source": [
    "from rich.console import Console\n",
    "console = Console()\n",
    "\n",
    "def push_notification(message):\n",
    "    console.log(f\"[bold green]{message}[/bold green]\")\n",
    "\n",
    "\n",
    "tool_notification = Tool(\n",
    "    name=\"push_notification\",\n",
    "    func=push_notification,\n",
    "    description=\"Useful for doing a push notification to the user\"\n",
    ")\n",
    "\n",
    "tool_notification.invoke(\"Hello! This is a test notification from LangGraph.\")"
   ]
  },
  {
   "cell_type": "code",
   "execution_count": 43,
   "id": "1e0cf7aa",
   "metadata": {},
   "outputs": [],
   "source": [
    "tools = [tool_search, tool_notification]"
   ]
  },
  {
   "cell_type": "code",
   "execution_count": 44,
   "id": "db8f7132",
   "metadata": {},
   "outputs": [],
   "source": [
    "from langgraph.prebuilt import ToolNode, tools_condition"
   ]
  },
  {
   "cell_type": "code",
   "execution_count": 45,
   "id": "380702ee",
   "metadata": {},
   "outputs": [
    {
     "data": {
      "image/png": "[encoded data removed]",
      "text/plain": [
       "<IPython.core.display.Image object>"
      ]
     },
     "metadata": {},
     "output_type": "display_data"
    }
   ],
   "source": [
    "class State(BaseModel):\n",
    "    messages: Annotated[list, add_messages]\n",
    "\n",
    "graph_builder = StateGraph(State)\n",
    "\n",
    "llm = ChatOpenAI(model=\"gpt-4o-mini\")\n",
    "llm_with_tools = llm.bind_tools(tools)\n",
    "\n",
    "def llm_node(old_state: State) -> State:\n",
    "    response = llm_with_tools.invoke(old_state.messages)\n",
    "    messages = [response]\n",
    "    new_state = State(messages=messages)\n",
    "    return new_state\n",
    "\n",
    "graph_builder.add_node(\"llm node\", llm_node)\n",
    "graph_builder.add_node(\"tools\", ToolNode(tools=tools))\n",
    "\n",
    "graph_builder.add_edge(START, \"llm node\")\n",
    "graph_builder.add_edge(\"llm node\", END)\n",
    "graph_builder.add_conditional_edges(\"llm node\", tools_condition, \"tools\")\n",
    "graph_builder.add_edge(\"tools\", \"llm node\")\n",
    "\n",
    "graph = graph_builder.compile()\n",
    "display(Image(graph.get_graph().draw_mermaid_png()))"
   ]
  },
  {
   "cell_type": "code",
   "execution_count": null,
   "id": "4df0d302",
   "metadata": {},
   "outputs": [
    {
     "name": "stdout",
     "output_type": "stream",
     "text": [
      "* Running on local URL:  http://127.0.0.1:7867\n",
      "* To create a public link, set `share=True` in `launch()`.\n"
     ]
    },
    {
     "data": {
      "text/html": [
       "<div><iframe src=\"http://127.0.0.1:7867/\" width=\"100%\" height=\"500\" allow=\"autoplay; camera; microphone; clipboard-read; clipboard-write;\" frameborder=\"0\" allowfullscreen></iframe></div>"
      ],
      "text/plain": [
       "<IPython.core.display.HTML object>"
      ]
     },
     "metadata": {},
     "output_type": "display_data"
    },
    {
     "data": {
      "text/plain": []
     },
     "execution_count": 46,
     "metadata": {},
     "output_type": "execute_result"
    },
    {
     "data": {
      "text/html": [
       "<pre style=\"white-space:pre;overflow-x:auto;line-height:normal;font-family:Menlo,'DejaVu Sans Mono',consolas,'Courier New',monospace\"><span style=\"color: #7fbfbf; text-decoration-color: #7fbfbf\">[22:54:09] </span><span style=\"color: #008000; text-decoration-color: #008000; font-weight: bold\">You have a new notification!</span>                                                             <a href=\"file:///tmp/ipykernel_43240/2656331194.py\" target=\"_blank\"><span style=\"color: #7f7f7f; text-decoration-color: #7f7f7f\">2656331194.py</span></a><span style=\"color: #7f7f7f; text-decoration-color: #7f7f7f\">:</span><a href=\"file:///tmp/ipykernel_43240/2656331194.py#5\" target=\"_blank\"><span style=\"color: #7f7f7f; text-decoration-color: #7f7f7f\">5</span></a>\n",
       "</pre>\n"
      ],
      "text/plain": [
       "\u001b[2;36m[22:54:09]\u001b[0m\u001b[2;36m \u001b[0m\u001b[1;32mYou have a new notification!\u001b[0m                                                             \u001b]8;id=663108;file:///tmp/ipykernel_43240/2656331194.py\u001b\\\u001b[2m2656331194.py\u001b[0m\u001b]8;;\u001b\\\u001b[2m:\u001b[0m\u001b]8;id=763336;file:///tmp/ipykernel_43240/2656331194.py#5\u001b\\\u001b[2m5\u001b[0m\u001b]8;;\u001b\\\n"
      ]
     },
     "metadata": {},
     "output_type": "display_data"
    }
   ],
   "source": [
    "def chat(user_input: str, history):\n",
    "    result = graph.invoke({\"messages\": [{\"role\": \"user\", \"content\": user_input}]})\n",
    "    return result[\"messages\"][-1].content\n",
    "\n",
    "\n",
    "gr.ChatInterface(chat, type=\"messages\").launch()"
   ]
  },
  {
   "cell_type": "code",
   "execution_count": null,
   "id": "62b5047d",
   "metadata": {},
   "outputs": [],
   "source": [
    "# from langgraph.checkpoint.memory import MemorySaver\n",
    "\n",
    "# memory = MemorySaver()"
   ]
  },
  {
   "cell_type": "code",
   "execution_count": 8,
   "id": "94bc9739",
   "metadata": {},
   "outputs": [],
   "source": [
    "# import sqlite3\n",
    "# from langgraph.checkpoint.sqlite import SqliteSaver\n",
    "from __future__ import annotations\n",
    "from langgraph.checkpoint.postgres import PostgresSaver \n",
    "import os\n",
    "from dotenv import load_dotenv\n",
    "from langgraph.graph import StateGraph, START, END\n",
    "from langchain_openai import ChatOpenAI\n",
    "from langgraph.prebuilt import ToolNode\n",
    "from typing import TypedDict, List, Any\n",
    "from langgraph.prebuilt import ToolNode, tools_condition\n",
    "from typing import Annotated\n",
    "from langgraph.graph import StateGraph, START, END\n",
    "from langgraph.graph.message import add_messages\n",
    "from dotenv import load_dotenv\n",
    "from IPython.display import display, Markdown, Image\n",
    "from langchain_openai import ChatOpenAI\n",
    "from pydantic import BaseModel\n",
    "import os\n",
    "from dotenv import load_dotenv\n",
    "import psycopg\n",
    "from psycopg.rows import dict_row\n",
    "import random\n",
    "import gradio as gr\n",
    "\n",
    "load_dotenv(override=True)\n",
    "\n",
    "class State(TypedDict):\n",
    "    messages: List[Any]\n",
    "\n",
    "tools = [] \n",
    "\n",
    "llm = ChatOpenAI(model=\"gpt-4o-mini\")\n",
    "llm_with_tools = llm.bind_tools(tools=tools)\n",
    "\n",
    "def llm_node(old_state: State) -> State:\n",
    "    response = llm_with_tools.invoke(old_state[\"messages\"])\n",
    "    return {\"messages\": [response]}\n",
    "\n",
    "# db_path = \"memory.db\"\n",
    "# conn = sqlite3.connect(db_path, check_same_thread=False)\n",
    "# memory = SqliteSaver(conn)"
   ]
  },
  {
   "cell_type": "code",
   "execution_count": 9,
   "id": "f26a4ebc",
   "metadata": {},
   "outputs": [
    {
     "data": {
      "image/png": "[encoded data removed]",
      "text/plain": [
       "<IPython.core.display.Image object>"
      ]
     },
     "metadata": {},
     "output_type": "display_data"
    }
   ],
   "source": [
    "\n",
    "graph_builder = StateGraph(State)\n",
    "\n",
    "llm = ChatOpenAI(model=\"gpt-4o-mini\")\n",
    "llm_with_tools = llm.bind_tools(tools=tools)\n",
    "\n",
    "def llm_node(old_state: State) -> State:\n",
    "    response = llm_with_tools.invoke(old_state.messages)\n",
    "    messages = [response]\n",
    "    new_state = State(messages=messages)\n",
    "    return new_state\n",
    "\n",
    "\n",
    "graph_builder.add_node(\"llm_node\", llm_node)\n",
    "graph_builder.add_node(\"tools\", ToolNode(tools=tools))\n",
    "\n",
    "graph_builder.add_edge(START, \"llm_node\")\n",
    "graph_builder.add_edge(\"llm_node\", END)\n",
    "graph_builder.add_conditional_edges(\"llm_node\", tools_condition, \"tools\")\n",
    "graph_builder.add_edge(\"tools\", \"llm_node\")\n",
    "\n",
    "DB_URI = os.getenv(\"SUPABASE_DB_URL\")  # e.g. postgresql://.../postgres?sslmode=require\n",
    "if not DB_URI:\n",
    "    raise RuntimeError(\"SUPABASE_DB_URL is not set in the environment.\")\n",
    "\n",
    "conn = psycopg.connect(DB_URI, autocommit=True, row_factory=dict_row)\n",
    "\n",
    "\n",
    "memory = PostgresSaver(conn)\n",
    "memory.setup() \n",
    "\n",
    "graph = graph_builder.compile(checkpointer=memory)\n",
    "display(Image(graph.get_graph().draw_mermaid_png()))"
   ]
  },
  {
   "cell_type": "code",
   "execution_count": null,
   "id": "b8298a4f",
   "metadata": {},
   "outputs": [
    {
     "name": "stderr",
     "output_type": "stream",
     "text": [
      "/mnt/d/Work/Projects/AI-Engineer/medical-reports/.venv/lib/python3.12/site-packages/gradio/chat_interface.py:347: UserWarning: The 'tuples' format for chatbot messages is deprecated and will be removed in a future version of Gradio. Please set type='messages' instead, which uses openai-style 'role' and 'content' keys.\n",
      "  self.chatbot = Chatbot(\n"
     ]
    },
    {
     "name": "stdout",
     "output_type": "stream",
     "text": [
      "* Running on local URL:  http://127.0.0.1:7860\n",
      "* To create a public link, set `share=True` in `launch()`.\n"
     ]
    },
    {
     "data": {
      "text/html": [
       "<div><iframe src=\"http://127.0.0.1:7860/\" width=\"100%\" height=\"500\" allow=\"autoplay; camera; microphone; clipboard-read; clipboard-write;\" frameborder=\"0\" allowfullscreen></iframe></div>"
      ],
      "text/plain": [
       "<IPython.core.display.HTML object>"
      ]
     },
     "metadata": {},
     "output_type": "display_data"
    },
    {
     "data": {
      "text/plain": []
     },
     "execution_count": 10,
     "metadata": {},
     "output_type": "execute_result"
    },
    {
     "name": "stderr",
     "output_type": "stream",
     "text": [
      "Traceback (most recent call last):\n",
      "  File \"/mnt/d/Work/Projects/AI-Engineer/medical-reports/.venv/lib/python3.12/site-packages/gradio/queueing.py\", line 745, in process_events\n",
      "    response = await route_utils.call_process_api(\n",
      "               ^^^^^^^^^^^^^^^^^^^^^^^^^^^^^^^^^^^\n",
      "  File \"/mnt/d/Work/Projects/AI-Engineer/medical-reports/.venv/lib/python3.12/site-packages/gradio/route_utils.py\", line 354, in call_process_api\n",
      "    output = await app.get_blocks().process_api(\n",
      "             ^^^^^^^^^^^^^^^^^^^^^^^^^^^^^^^^^^^\n",
      "  File \"/mnt/d/Work/Projects/AI-Engineer/medical-reports/.venv/lib/python3.12/site-packages/gradio/blocks.py\", line 2116, in process_api\n",
      "    result = await self.call_function(\n",
      "             ^^^^^^^^^^^^^^^^^^^^^^^^^\n",
      "  File \"/mnt/d/Work/Projects/AI-Engineer/medical-reports/.venv/lib/python3.12/site-packages/gradio/blocks.py\", line 1621, in call_function\n",
      "    prediction = await fn(*processed_input)\n",
      "                 ^^^^^^^^^^^^^^^^^^^^^^^^^^\n",
      "  File \"/mnt/d/Work/Projects/AI-Engineer/medical-reports/.venv/lib/python3.12/site-packages/gradio/utils.py\", line 882, in async_wrapper\n",
      "    response = await f(*args, **kwargs)\n",
      "               ^^^^^^^^^^^^^^^^^^^^^^^^\n",
      "  File \"/mnt/d/Work/Projects/AI-Engineer/medical-reports/.venv/lib/python3.12/site-packages/gradio/chat_interface.py\", line 553, in __wrapper\n",
      "    return await submit_fn(*args, **kwargs)\n",
      "           ^^^^^^^^^^^^^^^^^^^^^^^^^^^^^^^^\n",
      "  File \"/mnt/d/Work/Projects/AI-Engineer/medical-reports/.venv/lib/python3.12/site-packages/gradio/chat_interface.py\", line 943, in _submit_fn\n",
      "    response = await anyio.to_thread.run_sync(\n",
      "               ^^^^^^^^^^^^^^^^^^^^^^^^^^^^^^^\n",
      "  File \"/mnt/d/Work/Projects/AI-Engineer/medical-reports/.venv/lib/python3.12/site-packages/anyio/to_thread.py\", line 56, in run_sync\n",
      "    return await get_async_backend().run_sync_in_worker_thread(\n",
      "           ^^^^^^^^^^^^^^^^^^^^^^^^^^^^^^^^^^^^^^^^^^^^^^^^^^^^\n",
      "  File \"/mnt/d/Work/Projects/AI-Engineer/medical-reports/.venv/lib/python3.12/site-packages/anyio/_backends/_asyncio.py\", line 2485, in run_sync_in_worker_thread\n",
      "    return await future\n",
      "           ^^^^^^^^^^^^\n",
      "  File \"/mnt/d/Work/Projects/AI-Engineer/medical-reports/.venv/lib/python3.12/site-packages/anyio/_backends/_asyncio.py\", line 976, in run\n",
      "    result = context.run(func, *args)\n",
      "             ^^^^^^^^^^^^^^^^^^^^^^^^\n",
      "  File \"/tmp/ipykernel_49561/2390918261.py\", line 6, in chat\n",
      "    new_state = graph.invoke(state, config=config)\n",
      "                ^^^^^^^^^^^^^^^^^^^^^^^^^^^^^^^^^^\n",
      "  File \"/mnt/d/Work/Projects/AI-Engineer/medical-reports/.venv/lib/python3.12/site-packages/langgraph/pregel/main.py\", line 3026, in invoke\n",
      "    for chunk in self.stream(\n",
      "  File \"/mnt/d/Work/Projects/AI-Engineer/medical-reports/.venv/lib/python3.12/site-packages/langgraph/pregel/main.py\", line 2647, in stream\n",
      "    for _ in runner.tick(\n",
      "  File \"/mnt/d/Work/Projects/AI-Engineer/medical-reports/.venv/lib/python3.12/site-packages/langgraph/pregel/_runner.py\", line 162, in tick\n",
      "    run_with_retry(\n",
      "  File \"/mnt/d/Work/Projects/AI-Engineer/medical-reports/.venv/lib/python3.12/site-packages/langgraph/pregel/_retry.py\", line 42, in run_with_retry\n",
      "    return task.proc.invoke(task.input, config)\n",
      "           ^^^^^^^^^^^^^^^^^^^^^^^^^^^^^^^^^^^^\n",
      "  File \"/mnt/d/Work/Projects/AI-Engineer/medical-reports/.venv/lib/python3.12/site-packages/langgraph/_internal/_runnable.py\", line 657, in invoke\n",
      "    input = context.run(step.invoke, input, config, **kwargs)\n",
      "            ^^^^^^^^^^^^^^^^^^^^^^^^^^^^^^^^^^^^^^^^^^^^^^^^^\n",
      "  File \"/mnt/d/Work/Projects/AI-Engineer/medical-reports/.venv/lib/python3.12/site-packages/langgraph/_internal/_runnable.py\", line 401, in invoke\n",
      "    ret = self.func(*args, **kwargs)\n",
      "          ^^^^^^^^^^^^^^^^^^^^^^^^^^\n",
      "  File \"/tmp/ipykernel_49561/349936008.py\", line 7, in llm_node\n",
      "    response = llm_with_tools.invoke(old_state.messages)\n",
      "                                     ^^^^^^^^^^^^^^^^^^\n",
      "AttributeError: 'dict' object has no attribute 'messages'\n",
      "During task with name 'llm_node' and id '65f09d82-6ea8-eaa2-6417-5c81d7952459'\n"
     ]
    }
   ],
   "source": [
    "config = {\"configurable\": {\"thread_id\": \"1\"}}\n",
    "\n",
    "def chat(user_message, history):\n",
    "    messages = [{\"role\": \"user\", \"content\": user_message}]\n",
    "    state = State(messages=messages)\n",
    "    new_state = graph.invoke(state, config=config)\n",
    "    return new_state[\"messages\"][-1].content\n",
    "\n",
    "gr.ChatInterface(fn=chat, title=\"LangGraph LLM Test\").launch()"
   ]
  },
  {
   "cell_type": "code",
   "execution_count": null,
   "id": "8e10882f",
   "metadata": {},
   "outputs": [],
   "source": []
  }
 ],
 "metadata": {
  "kernelspec": {
   "display_name": "ownership-ai",
   "language": "python",
   "name": "python3"
  },
  "language_info": {
   "codemirror_mode": {
    "name": "ipython",
    "version": 3
   },
   "file_extension": ".py",
   "mimetype": "text/x-python",
   "name": "python",
   "nbconvert_exporter": "python",
   "pygments_lexer": "ipython3",
   "version": "3.12.3"
  }
 },
 "nbformat": 4,
 "nbformat_minor": 5
}
