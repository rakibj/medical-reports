{
 "cells": [
  {
   "cell_type": "code",
   "execution_count": 47,
   "id": "9944b20a",
   "metadata": {},
   "outputs": [
    {
     "data": {
      "text/plain": [
       "True"
      ]
     },
     "execution_count": 47,
     "metadata": {},
     "output_type": "execute_result"
    }
   ],
   "source": [
    "from typing import Annotated, TypedDict, List\n",
    "from langgraph.graph import StateGraph, START, END\n",
    "from langgraph.graph.message import add_messages\n",
    "from dotenv import load_dotenv\n",
    "from IPython.display import display, Markdown, Image\n",
    "from langchain_openai import ChatOpenAI\n",
    "from pydantic import BaseModel\n",
    "from langgraph.prebuilt import ToolNode, tools_condition\n",
    "from langgraph.checkpoint.memory import MemorySaver\n",
    "from langchain_core.messages import BaseMessage, HumanMessage, AIMessage, SystemMessage\n",
    "from langchain_core.prompts import ChatPromptTemplate, MessagesPlaceholder\n",
    "from langchain.agents import Tool\n",
    "import json\n",
    "import uuid\n",
    "\n",
    "import random\n",
    "import gradio as gr\n",
    "\n",
    "load_dotenv()"
   ]
  },
  {
   "cell_type": "code",
   "execution_count": 48,
   "id": "3e20d3e4",
   "metadata": {},
   "outputs": [],
   "source": [
    "llm = ChatOpenAI(model=\"gpt-4o-mini\")\n",
    "system_prompt = \"\"\"\n",
    "    You are a medical assistant. Based on the user message, you will decide whether to response normally or to look for information\n",
    "    in the medical documents provided. When relevant be sure to look into the documents to provide accurate information. \n",
    "    \"\"\"\n",
    "prompt = ChatPromptTemplate.from_messages([\n",
    "    SystemMessage(content=system_prompt),\n",
    "    MessagesPlaceholder(variable_name=\"messages\")\n",
    "    ])\n",
    "\n",
    "chain = prompt | llm"
   ]
  },
  {
   "cell_type": "code",
   "execution_count": 49,
   "id": "754b6011",
   "metadata": {},
   "outputs": [],
   "source": [
    "class State(TypedDict):\n",
    "    messages: Annotated[List[BaseMessage], add_messages]"
   ]
  },
  {
   "cell_type": "code",
   "execution_count": 50,
   "id": "6dcb1fe6",
   "metadata": {},
   "outputs": [],
   "source": [
    "def log_messages(messages: List[BaseMessage]) -> None:\n",
    "    for message in messages:\n",
    "        if isinstance(message, HumanMessage):\n",
    "            print(f\"Human: {message.content}\")\n",
    "        elif isinstance(message, AIMessage):\n",
    "            print(f\"AI: {message.content}\")\n",
    "        elif isinstance(message, SystemMessage):\n",
    "            print(f\"System: {message.content}\")"
   ]
  },
  {
   "cell_type": "code",
   "execution_count": 54,
   "id": "a79857b1",
   "metadata": {},
   "outputs": [],
   "source": [
    "def advisor_node(old_state: State) -> State:\n",
    "    response = chain.invoke(old_state[\"messages\"])\n",
    "    print(\"________________________\")\n",
    "    print(log_messages(old_state[\"messages\"] + [response]))\n",
    "    return {\"messages\": [response]}"
   ]
  },
  {
   "cell_type": "code",
   "execution_count": 55,
   "id": "330e4c29",
   "metadata": {},
   "outputs": [
    {
     "data": {
      "image/png": "[encoded data removed]",
      "text/plain": [
       "<IPython.core.display.Image object>"
      ]
     },
     "metadata": {},
     "output_type": "display_data"
    }
   ],
   "source": [
    "graph_builder = StateGraph(State)\n",
    "\n",
    "graph_builder.add_node(\"advisor\", advisor_node)\n",
    "graph_builder.add_edge(START, \"advisor\")\n",
    "graph_builder.add_edge(\"advisor\", END)\n",
    "\n",
    "memory = MemorySaver()\n",
    "graph = graph_builder.compile(checkpointer=memory)\n",
    "display(Image(graph.get_graph().draw_mermaid_png()))"
   ]
  },
  {
   "cell_type": "code",
   "execution_count": null,
   "id": "1b4e41aa",
   "metadata": {},
   "outputs": [
    {
     "name": "stderr",
     "output_type": "stream",
     "text": [
      "/mnt/d/Work/Projects/AI-Engineer/medical-reports/.venv/lib/python3.12/site-packages/gradio/chat_interface.py:348: UserWarning: The 'tuples' format for chatbot messages is deprecated and will be removed in a future version of Gradio. Please set type='messages' instead, which uses openai-style 'role' and 'content' keys.\n",
      "  self.chatbot = Chatbot(\n"
     ]
    },
    {
     "name": "stdout",
     "output_type": "stream",
     "text": [
      "* Running on local URL:  http://127.0.0.1:7868\n",
      "* To create a public link, set `share=True` in `launch()`.\n"
     ]
    },
    {
     "data": {
      "text/html": [
       "<div><iframe src=\"http://127.0.0.1:7868/\" width=\"100%\" height=\"500\" allow=\"autoplay; camera; microphone; clipboard-read; clipboard-write;\" frameborder=\"0\" allowfullscreen></iframe></div>"
      ],
      "text/plain": [
       "<IPython.core.display.HTML object>"
      ]
     },
     "metadata": {},
     "output_type": "display_data"
    },
    {
     "data": {
      "text/plain": []
     },
     "execution_count": 56,
     "metadata": {},
     "output_type": "execute_result"
    },
    {
     "name": "stdout",
     "output_type": "stream",
     "text": [
      "________________________\n",
      "Human: what r u\n",
      "AI: I am a medical assistant here to help you with your medical questions or concerns. How can I assist you today?\n",
      "None\n"
     ]
    }
   ],
   "source": [
    "def make_thread_id() -> str:\n",
    "    return str(uuid.uuid4())\n",
    "\n",
    "config = {\"configurable\": {\"thread_id\": make_thread_id()}}\n",
    "\n",
    "def chat(user_message, history):\n",
    "    out = graph.invoke({\"messages\": [HumanMessage(content=user_message)]}, config=config)\n",
    "    return out[\"messages\"][-1].content\n",
    "\n",
    "gr.ChatInterface(fn=chat, title=\"LangGraph LLM Test\").launch()"
   ]
  },
  {
   "cell_type": "code",
   "execution_count": null,
   "id": "4a7edeae",
   "metadata": {},
   "outputs": [],
   "source": []
  },
  {
   "cell_type": "code",
   "execution_count": null,
   "id": "c49b7b2f",
   "metadata": {},
   "outputs": [],
   "source": []
  }
 ],
 "metadata": {
  "kernelspec": {
   "display_name": "ownership-ai",
   "language": "python",
   "name": "python3"
  },
  "language_info": {
   "codemirror_mode": {
    "name": "ipython",
    "version": 3
   },
   "file_extension": ".py",
   "mimetype": "text/x-python",
   "name": "python",
   "nbconvert_exporter": "python",
   "pygments_lexer": "ipython3",
   "version": "3.12.3"
  }
 },
 "nbformat": 4,
 "nbformat_minor": 5
}
